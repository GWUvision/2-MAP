{
 "cells": [
  {
   "cell_type": "code",
   "execution_count": 6,
   "metadata": {},
   "outputs": [],
   "source": [
    "import os\n",
    "from utils import tumap,autoUMap,Drawer\n",
    "import utils\n",
    "import warnings\n",
    "import numpy as np\n",
    "import pickle"
   ]
  },
  {
   "cell_type": "code",
   "execution_count": 7,
   "metadata": {},
   "outputs": [],
   "source": [
    "raw = pickle.load( open( '../data/MNIST/rawdata.pkl', \"rb\" ) )\n",
    "emb = pickle.load( open( '../data/MNIST/pca_result.pkl', \"rb\" ) )\n",
    "label = pickle.load( open( '../data/MNIST/label.pkl', \"rb\" ) )\n",
    "label = np.array(label).astype(int)"
   ]
  },
  {
   "cell_type": "code",
   "execution_count": null,
   "metadata": {},
   "outputs": [],
   "source": [
    "warnings.filterwarnings('ignore')\n",
    "savepath = './exp_result/MNIST/'\n",
    "res1,res2,ori1,ori2=autoUMap.yoke_TUMAP(raw,emb,label,metric='cosine',name1='raw',name2='10-d PCA',savepath=savepath,all_process=True)"
   ]
  },
  {
   "cell_type": "code",
   "execution_count": null,
   "metadata": {},
   "outputs": [],
   "source": []
  }
 ],
 "metadata": {
  "kernelspec": {
   "display_name": "Python 3",
   "language": "python",
   "name": "python3"
  },
  "language_info": {
   "codemirror_mode": {
    "name": "ipython",
    "version": 3
   },
   "file_extension": ".py",
   "mimetype": "text/x-python",
   "name": "python",
   "nbconvert_exporter": "python",
   "pygments_lexer": "ipython3",
   "version": "3.7.3"
  }
 },
 "nbformat": 4,
 "nbformat_minor": 2
}
