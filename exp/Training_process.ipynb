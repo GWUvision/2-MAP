{
 "cells": [
  {
   "cell_type": "code",
   "execution_count": null,
   "metadata": {},
   "outputs": [],
   "source": [
    "import os\n",
    "import numpy as np\n",
    "from utils import tumap,autoUMap,Drawer\n",
    "import pickle\n",
    "import warnings"
   ]
  },
  {
   "cell_type": "code",
   "execution_count": 2,
   "metadata": {},
   "outputs": [],
   "source": [
    "label_tra = pickle.load( open('../data/FC_GAP/CAR_traLabel.pkl', \"rb\"))\n",
    "label_val = pickle.load( open('../data/FC_GAP/CAR_valLabel.pkl', \"rb\"))"
   ]
  },
  {
   "cell_type": "code",
   "execution_count": 3,
   "metadata": {},
   "outputs": [],
   "source": [
    "path = '../data/Training_process/'\n",
    "datalist_tra=[]\n",
    "datalist_val=[]\n",
    "for i in range(0,20):\n",
    "    datalist_tra.append(pickle.load( open(path+str(i)+'traFvecs.pkl',\"rb\")))\n",
    "    datalist_val.append(pickle.load( open(path+str(i)+'valFvecs.pkl',\"rb\")))\n",
    "datalist_tra.reverse()\n",
    "datalist_val.reverse()"
   ]
  },
  {
   "cell_type": "code",
   "execution_count": 4,
   "metadata": {},
   "outputs": [],
   "source": [
    "savepath='./exp_result/Training_process/'"
   ]
  },
  {
   "cell_type": "code",
   "execution_count": null,
   "metadata": {},
   "outputs": [],
   "source": [
    "warnings.filterwarnings('ignore')\n",
    "autoUMap.ThruMap(datalist_tra,label_tra,times=3,savepath=savepath)"
   ]
  },
  {
   "cell_type": "code",
   "execution_count": null,
   "metadata": {},
   "outputs": [],
   "source": []
  },
  {
   "cell_type": "code",
   "execution_count": null,
   "metadata": {},
   "outputs": [],
   "source": []
  },
  {
   "cell_type": "code",
   "execution_count": null,
   "metadata": {},
   "outputs": [],
   "source": []
  }
 ],
 "metadata": {
  "kernelspec": {
   "display_name": "Python 3",
   "language": "python",
   "name": "python3"
  },
  "language_info": {
   "codemirror_mode": {
    "name": "ipython",
    "version": 3
   },
   "file_extension": ".py",
   "mimetype": "text/x-python",
   "name": "python",
   "nbconvert_exporter": "python",
   "pygments_lexer": "ipython3",
   "version": "3.7.3"
  }
 },
 "nbformat": 4,
 "nbformat_minor": 4
}
