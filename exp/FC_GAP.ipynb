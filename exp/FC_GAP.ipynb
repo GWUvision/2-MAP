{
 "cells": [
  {
   "cell_type": "code",
   "execution_count": 1,
   "metadata": {},
   "outputs": [
    {
     "name": "stderr",
     "output_type": "stream",
     "text": [
      "/pless_nfs/home/liuxiaotong2017/anaconda3/envs/DL/lib/python3.7/site-packages/sklearn/externals/joblib/__init__.py:15: DeprecationWarning: sklearn.externals.joblib is deprecated in 0.21 and will be removed in 0.23. Please import this functionality directly from joblib, which can be installed with: pip install joblib. If this warning is raised when loading pickled models, you may need to re-serialize those models with scikit-learn 0.21+.\n",
      "  warnings.warn(msg, category=DeprecationWarning)\n"
     ]
    }
   ],
   "source": [
    "import os\n",
    "import numpy as np\n",
    "import matplotlib.pyplot as plt\n",
    "import warnings\n",
    "from utils import tumap,autoUMap,Drawer\n",
    "import pickle"
   ]
  },
  {
   "cell_type": "code",
   "execution_count": 2,
   "metadata": {},
   "outputs": [],
   "source": [
    "Npair_tra = pickle.load( open( '../data/FC_GAP/traFvecs.pkl', \"rb\" ) )\n",
    "Npair_tra_gp = pickle.load( open( '../data/FC_GAP/traFvecs_gp.pkl', \"rb\" ) )\n",
    "Npair_val = pickle.load( open( '../data/FC_GAP/valFvecs.pkl', \"rb\" ) )\n",
    "Npair_val_gp = pickle.load( open( '../data/FC_GAP/valFvecs_gp.pkl', \"rb\" ) )"
   ]
  },
  {
   "cell_type": "code",
   "execution_count": 3,
   "metadata": {},
   "outputs": [
    {
     "name": "stdout",
     "output_type": "stream",
     "text": [
      "torch.Size([8054, 64])\n"
     ]
    }
   ],
   "source": [
    "print(Npair_tra.shape)"
   ]
  },
  {
   "cell_type": "code",
   "execution_count": 4,
   "metadata": {},
   "outputs": [],
   "source": [
    "label_tra = pickle.load( open( '../data/FC_GAP/CAR_traLabel.pkl', \"rb\" ) )\n",
    "label_val = pickle.load( open( '../data/FC_GAP/CAR_valLabel.pkl', \"rb\" ) )"
   ]
  },
  {
   "cell_type": "code",
   "execution_count": null,
   "metadata": {},
   "outputs": [],
   "source": [
    "warnings.filterwarnings('ignore')\n",
    "mode='NPair_tra'\n",
    "savepath = './exp_result/FC_GAP/'+mode+'/'\n",
    "res1,res2,ori1,ori2=autoUMap.yoke_TUMAP(Npair_tra,Npair_tra_gp,label_tra,metric='cosine',name1='FC',name2='GAP',savepath=savepath,all_process=True)"
   ]
  },
  {
   "cell_type": "code",
   "execution_count": 6,
   "metadata": {},
   "outputs": [],
   "source": [
    "pickle.dump( res1, open( savepath+'/FC.pkl', \"wb\" ) )\n",
    "pickle.dump( res2, open( savepath+'/GAP.pkl', \"wb\" ) )"
   ]
  },
  {
   "cell_type": "code",
   "execution_count": null,
   "metadata": {},
   "outputs": [],
   "source": [
    "warnings.filterwarnings('ignore')\n",
    "mode='NPair_val'\n",
    "savepath = './exp_result/FC_GAP/'+mode+'/'\n",
    "autoUMap.yoke_TUMAP(Npair_val,Npair_val_gp,label_val,metric='cosine',name1='FC',name2='GAP',savepath=savepath,all_process=True)"
   ]
  },
  {
   "cell_type": "code",
   "execution_count": null,
   "metadata": {},
   "outputs": [],
   "source": [
    "pickle.dump( res1, open( savepath+'/FC.pkl', \"wb\" ) )\n",
    "pickle.dump( res2, open( savepath+'/GAP.pkl', \"wb\" ) )"
   ]
  },
  {
   "cell_type": "code",
   "execution_count": null,
   "metadata": {},
   "outputs": [],
   "source": []
  }
 ],
 "metadata": {
  "kernelspec": {
   "display_name": "Python 3",
   "language": "python",
   "name": "python3"
  },
  "language_info": {
   "codemirror_mode": {
    "name": "ipython",
    "version": 3
   },
   "file_extension": ".py",
   "mimetype": "text/x-python",
   "name": "python",
   "nbconvert_exporter": "python",
   "pygments_lexer": "ipython3",
   "version": "3.7.3"
  }
 },
 "nbformat": 4,
 "nbformat_minor": 2
}
