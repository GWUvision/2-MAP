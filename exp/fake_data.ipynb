{
 "cells": [
  {
   "cell_type": "code",
   "execution_count": 5,
   "metadata": {},
   "outputs": [],
   "source": [
    "import os\n",
    "import numpy as np\n",
    "import matplotlib.pyplot as plt\n",
    "import warnings\n",
    "from utils import tumap,autoUMap\n",
    "import pickle"
   ]
  },
  {
   "cell_type": "code",
   "execution_count": 2,
   "metadata": {},
   "outputs": [],
   "source": [
    "mean = (10,0,0,0)\n",
    "cov = [[1,0,0,0], [0,1,0,0],[0,0,1,0], [0,0,0,1]]\n",
    "x1 = np.random.multivariate_normal(mean, cov, 250).T\n",
    "mean = (0,10,0,0)\n",
    "x2 = np.random.multivariate_normal(mean, cov, 250).T\n",
    "mean = (0,0,10,0)\n",
    "x3 = np.random.multivariate_normal(mean, cov, 250).T\n",
    "mean = (0,0,0,10)\n",
    "x4 = np.random.multivariate_normal(mean, cov, 250).T\n",
    "gau = np.hstack((x1,x2,x3,x4)).T\n",
    "lin = np.asarray([range(0,1000,1)])\n",
    "lin = np.vstack((lin,lin,lin,lin))\n",
    "lin=lin/1000\n",
    "lin=lin.T"
   ]
  },
  {
   "cell_type": "code",
   "execution_count": null,
   "metadata": {},
   "outputs": [],
   "source": [
    "warnings.filterwarnings('ignore')\n",
    "mode='fake_data'\n",
    "savepath='./exp_result/'+mode+'/'\n",
    "res1,res2,ori1,ori2=autoUMap.yoke_TUMAP(gau,lin,'',metric='cosine',name1='FC',name2='GAP',savepath=savepath,all_process=True,if_draw=False)"
   ]
  },
  {
   "cell_type": "code",
   "execution_count": 8,
   "metadata": {},
   "outputs": [],
   "source": [
    "pickle.dump( res1, open( savepath+'/gau.pkl', \"wb\" ) )\n",
    "pickle.dump( res2, open( savepath+'/lin.pkl', \"wb\" ) )"
   ]
  },
  {
   "cell_type": "code",
   "execution_count": null,
   "metadata": {},
   "outputs": [],
   "source": []
  },
  {
   "cell_type": "code",
   "execution_count": null,
   "metadata": {},
   "outputs": [],
   "source": []
  },
  {
   "cell_type": "code",
   "execution_count": null,
   "metadata": {},
   "outputs": [],
   "source": []
  }
 ],
 "metadata": {
  "kernelspec": {
   "display_name": "Python 3",
   "language": "python",
   "name": "python3"
  },
  "language_info": {
   "codemirror_mode": {
    "name": "ipython",
    "version": 3
   },
   "file_extension": ".py",
   "mimetype": "text/x-python",
   "name": "python",
   "nbconvert_exporter": "python",
   "pygments_lexer": "ipython3",
   "version": "3.7.3"
  }
 },
 "nbformat": 4,
 "nbformat_minor": 2
}
