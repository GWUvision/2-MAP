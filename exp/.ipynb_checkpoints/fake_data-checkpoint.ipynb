{
 "cells": [
  {
   "cell_type": "code",
   "execution_count": 1,
   "metadata": {},
   "outputs": [
    {
     "name": "stderr",
     "output_type": "stream",
     "text": [
      "/pless_nfs/home/liuxiaotong2017/anaconda3/envs/DL/lib/python3.7/site-packages/sklearn/externals/joblib/__init__.py:15: DeprecationWarning: sklearn.externals.joblib is deprecated in 0.21 and will be removed in 0.23. Please import this functionality directly from joblib, which can be installed with: pip install joblib. If this warning is raised when loading pickled models, you may need to re-serialize those models with scikit-learn 0.21+.\n",
      "  warnings.warn(msg, category=DeprecationWarning)\n"
     ]
    }
   ],
   "source": [
    "import os\n",
    "import numpy as np\n",
    "import matplotlib.pyplot as plt\n",
    "import warnings\n",
    "from utils import tumap,autoUMap"
   ]
  },
  {
   "cell_type": "code",
   "execution_count": 2,
   "metadata": {},
   "outputs": [],
   "source": [
    "mean = (10,0,0,0)\n",
    "cov = [[1,0,0,0], [0,1,0,0],[0,0,1,0], [0,0,0,1]]\n",
    "x1 = np.random.multivariate_normal(mean, cov, 250).T\n",
    "mean = (0,10,0,0)\n",
    "x2 = np.random.multivariate_normal(mean, cov, 250).T\n",
    "mean = (0,0,10,0)\n",
    "x3 = np.random.multivariate_normal(mean, cov, 250).T\n",
    "mean = (0,0,0,10)\n",
    "x4 = np.random.multivariate_normal(mean, cov, 250).T\n",
    "gau = np.hstack((x1,x2,x3,x4)).T\n",
    "lin = np.asarray([range(0,1000,1)])\n",
    "lin = np.vstack((lin,lin,lin,lin))\n",
    "lin=lin/1000\n",
    "lin=lin.T"
   ]
  },
  {
   "cell_type": "code",
   "execution_count": 3,
   "metadata": {},
   "outputs": [
    {
     "ename": "TypeError",
     "evalue": "yoke_TUMAP() missing 1 required positional argument: 'label'",
     "output_type": "error",
     "traceback": [
      "\u001b[0;31m---------------------------------------------------------------------------\u001b[0m",
      "\u001b[0;31mTypeError\u001b[0m                                 Traceback (most recent call last)",
      "\u001b[0;32m<ipython-input-3-70b92435c645>\u001b[0m in \u001b[0;36m<module>\u001b[0;34m\u001b[0m\n\u001b[1;32m      1\u001b[0m \u001b[0mwarnings\u001b[0m\u001b[0;34m.\u001b[0m\u001b[0mfilterwarnings\u001b[0m\u001b[0;34m(\u001b[0m\u001b[0;34m'ignore'\u001b[0m\u001b[0;34m)\u001b[0m\u001b[0;34m\u001b[0m\u001b[0;34m\u001b[0m\u001b[0m\n\u001b[1;32m      2\u001b[0m \u001b[0mmode\u001b[0m\u001b[0;34m=\u001b[0m\u001b[0;34m'fake_data'\u001b[0m\u001b[0;34m\u001b[0m\u001b[0;34m\u001b[0m\u001b[0m\n\u001b[0;32m----> 3\u001b[0;31m \u001b[0mres1\u001b[0m\u001b[0;34m,\u001b[0m\u001b[0mres2\u001b[0m\u001b[0;34m,\u001b[0m\u001b[0mori1\u001b[0m\u001b[0;34m,\u001b[0m\u001b[0mori2\u001b[0m\u001b[0;34m=\u001b[0m\u001b[0mautoUMap\u001b[0m\u001b[0;34m.\u001b[0m\u001b[0myoke_TUMAP\u001b[0m\u001b[0;34m(\u001b[0m\u001b[0mgau\u001b[0m\u001b[0;34m,\u001b[0m\u001b[0mlin\u001b[0m\u001b[0;34m,\u001b[0m\u001b[0mmetric\u001b[0m\u001b[0;34m=\u001b[0m\u001b[0;34m'cosine'\u001b[0m\u001b[0;34m,\u001b[0m\u001b[0mname1\u001b[0m\u001b[0;34m=\u001b[0m\u001b[0;34m'FC'\u001b[0m\u001b[0;34m,\u001b[0m\u001b[0mname2\u001b[0m\u001b[0;34m=\u001b[0m\u001b[0;34m'GAP'\u001b[0m\u001b[0;34m,\u001b[0m\u001b[0msavepath\u001b[0m\u001b[0;34m=\u001b[0m\u001b[0;34m'./exp_result/'\u001b[0m\u001b[0;34m+\u001b[0m\u001b[0mmode\u001b[0m\u001b[0;34m+\u001b[0m\u001b[0;34m'/'\u001b[0m\u001b[0;34m,\u001b[0m\u001b[0mall_process\u001b[0m\u001b[0;34m=\u001b[0m\u001b[0;32mTrue\u001b[0m\u001b[0;34m)\u001b[0m\u001b[0;34m\u001b[0m\u001b[0;34m\u001b[0m\u001b[0m\n\u001b[0m",
      "\u001b[0;31mTypeError\u001b[0m: yoke_TUMAP() missing 1 required positional argument: 'label'"
     ]
    }
   ],
   "source": [
    "warnings.filterwarnings('ignore')\n",
    "mode='fake_data'\n",
    "res1,res2,ori1,ori2=autoUMap.yoke_TUMAP(gau,lin,'',metric='cosine',name1='FC',name2='GAP',savepath='./exp_result/'+mode+'/',all_process=True)"
   ]
  },
  {
   "cell_type": "code",
   "execution_count": null,
   "metadata": {},
   "outputs": [],
   "source": [
    "pickle.dump( res1, open( savepath+'/gau.pkl', \"wb\" ) )\n",
    "pickle.dump( res2, open( savepath+'/lin.pkl', \"wb\" ) )"
   ]
  },
  {
   "cell_type": "code",
   "execution_count": null,
   "metadata": {},
   "outputs": [],
   "source": []
  },
  {
   "cell_type": "code",
   "execution_count": null,
   "metadata": {},
   "outputs": [],
   "source": []
  }
 ],
 "metadata": {
  "kernelspec": {
   "display_name": "Python 3",
   "language": "python",
   "name": "python3"
  },
  "language_info": {
   "codemirror_mode": {
    "name": "ipython",
    "version": 3
   },
   "file_extension": ".py",
   "mimetype": "text/x-python",
   "name": "python",
   "nbconvert_exporter": "python",
   "pygments_lexer": "ipython3",
   "version": "3.7.3"
  }
 },
 "nbformat": 4,
 "nbformat_minor": 2
}
