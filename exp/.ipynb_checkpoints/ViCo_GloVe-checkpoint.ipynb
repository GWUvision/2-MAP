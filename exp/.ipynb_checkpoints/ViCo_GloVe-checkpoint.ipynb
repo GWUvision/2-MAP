{
 "cells": [
  {
   "cell_type": "code",
   "execution_count": null,
   "metadata": {},
   "outputs": [],
   "source": [
    "import os\n",
    "import numpy as np\n",
    "from utils import tumap,autoUMap,Drawer\n",
    "import warnings\n",
    "import pylab as py\n",
    "import pickle"
   ]
  },
  {
   "cell_type": "code",
   "execution_count": 2,
   "metadata": {},
   "outputs": [],
   "source": [
    "vico = pickle.load( open('../data/ViCo_GloVe/vico.pkl', \"rb\" ) )\n",
    "glove= pickle.load( open('../data/ViCo_GloVe/glove.pkl', \"rb\" ) )\n",
    "label = pickle.load( open('../data/ViCo_GloVe/label.pkl', \"rb\" ) )\n",
    "words = pickle.load( open('../data/ViCo_GloVe/words.pkl', \"rb\" ) )\n",
    "c_to_i = pickle.load( open('../data/ViCo_GloVe/category_to_index.pkl', \"rb\" ) )"
   ]
  },
  {
   "cell_type": "code",
   "execution_count": 3,
   "metadata": {},
   "outputs": [],
   "source": [
    "label = np.array(label)"
   ]
  },
  {
   "cell_type": "code",
   "execution_count": null,
   "metadata": {},
   "outputs": [],
   "source": [
    "warnings.filterwarnings('ignore')\n",
    "savepath = './exp_result/vico_glove/'\n",
    "res1,res2,ori1,ori2=autoUMap.yoke_TUMAP(vico,glove,label,metric='cosine',name1='vico',name2='glove',savepath=savepath,all_process=True)"
   ]
  },
  {
   "cell_type": "code",
   "execution_count": null,
   "metadata": {},
   "outputs": [],
   "source": [
    "pickle.dump( res1, open( savepath+'/vico.pkl', \"wb\" ) )\n",
    "pickle.dump( res2, open( savepath+'/glove.pkl', \"wb\" ) )"
   ]
  },
  {
   "cell_type": "code",
   "execution_count": null,
   "metadata": {},
   "outputs": [],
   "source": []
  },
  {
   "cell_type": "code",
   "execution_count": null,
   "metadata": {},
   "outputs": [],
   "source": []
  },
  {
   "cell_type": "code",
   "execution_count": null,
   "metadata": {},
   "outputs": [],
   "source": []
  }
 ],
 "metadata": {
  "kernelspec": {
   "display_name": "Python 3",
   "language": "python",
   "name": "python3"
  },
  "language_info": {
   "codemirror_mode": {
    "name": "ipython",
    "version": 3
   },
   "file_extension": ".py",
   "mimetype": "text/x-python",
   "name": "python",
   "nbconvert_exporter": "python",
   "pygments_lexer": "ipython3",
   "version": "3.7.3"
  }
 },
 "nbformat": 4,
 "nbformat_minor": 4
}
