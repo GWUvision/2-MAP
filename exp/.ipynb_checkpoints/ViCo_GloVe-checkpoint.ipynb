{
 "cells": [
  {
   "cell_type": "code",
   "execution_count": 9,
   "metadata": {},
   "outputs": [],
   "source": [
    "import os\n",
    "import numpy as np\n",
    "from utils import tumap,autoUMap,Drawer\n",
    "import warnings\n",
    "import pylab as py\n",
    "import pickle"
   ]
  },
  {
   "cell_type": "code",
   "execution_count": 15,
   "metadata": {},
   "outputs": [],
   "source": [
    "vico = pickle.load( open('../data/ViCo_GloVe/vico.pkl', \"rb\" ) )\n",
    "glove= pickle.load( open('../data/ViCo_GloVe/glove.pkl', \"rb\" ) )\n",
    "label = pickle.load( open('../data/ViCo_GloVe/label.pkl', \"rb\" ) )\n",
    "words = pickle.load( open('../data/ViCo_GloVe/words.pkl', \"rb\" ) )\n",
    "c_to_i = pickle.load( open('../data/ViCo_GloVe/category_to_index.pkl', \"rb\" ) )"
   ]
  },
  {
   "cell_type": "code",
   "execution_count": 16,
   "metadata": {},
   "outputs": [
    {
     "data": {
      "text/plain": [
       "{0: 'FOOD',\n",
       " 1: 'ANIMALS',\n",
       " 2: 'COLORS',\n",
       " 3: 'APPLIANCES',\n",
       " 4: 'ELECTRONICS',\n",
       " 5: 'UTENSILS',\n",
       " 6: 'TRANSPORT',\n",
       " 7: 'HUMANS',\n",
       " 8: 'NUMBERS',\n",
       " 9: 'CLOTHES',\n",
       " 10: 'BUILDINGS',\n",
       " 11: 'ACTIONS',\n",
       " 12: 'BODYPARTS'}"
      ]
     },
     "execution_count": 16,
     "metadata": {},
     "output_type": "execute_result"
    }
   ],
   "source": [
    "warnings.filterwarnings('ignore')\n",
    "savepath = './exp_result/vico_glove/'\n",
    "res1,res2,ori1,ori2=autoUMap.yoke_TUMAP(vico,glove,label_tra,metric='cosine',name1='FC',name2='GAP',savepath=savepath,all_process=True)"
   ]
  },
  {
   "cell_type": "code",
   "execution_count": null,
   "metadata": {},
   "outputs": [],
   "source": []
  },
  {
   "cell_type": "code",
   "execution_count": null,
   "metadata": {},
   "outputs": [],
   "source": []
  }
 ],
 "metadata": {
  "kernelspec": {
   "display_name": "Python 3",
   "language": "python",
   "name": "python3"
  },
  "language_info": {
   "codemirror_mode": {
    "name": "ipython",
    "version": 3
   },
   "file_extension": ".py",
   "mimetype": "text/x-python",
   "name": "python",
   "nbconvert_exporter": "python",
   "pygments_lexer": "ipython3",
   "version": "3.7.3"
  }
 },
 "nbformat": 4,
 "nbformat_minor": 2
}
